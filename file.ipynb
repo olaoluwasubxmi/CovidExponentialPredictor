{
 "cells": [
  {
   "cell_type": "code",
   "execution_count": 5,
   "metadata": {},
   "outputs": [
    {
     "name": "stdout",
     "output_type": "stream",
     "text": [
      "This Program is dedicated to a project i did back in 2020 for a Challenge called the 300 Innovation Challenge\n",
      "day 0 cases 55555\n",
      "day 1 cases 66666.0\n",
      "day 2 cases 79999.2\n",
      "day 3 cases 95999.04\n",
      "day 4 cases 115198.84799999998\n",
      "day 5 cases 138238.61759999997\n",
      "day 6 cases 165886.34111999997\n",
      "day 7 cases 199063.60934399997\n",
      "day 8 cases 238876.33121279994\n",
      "day 9 cases 286651.59745535994\n",
      "day 10 cases 343981.9169464319\n",
      "day 11 cases 412778.30033571826\n",
      "day 12 cases 495333.9604028619\n",
      "day 13 cases 594400.7524834343\n",
      "day 14 cases 713280.9029801211\n",
      "day 15 cases 855937.0835761452\n",
      "day 16 cases 1027124.5002913743\n",
      "day 17 cases 1232549.4003496491\n",
      "day 18 cases 1479059.280419579\n",
      "day 19 cases 1774871.1365034948\n",
      "day 20 cases 2129845.3638041937\n",
      "day 21 cases 2555814.436565032\n",
      "day 22 cases 3066977.3238780387\n",
      "day 23 cases 3680372.788653646\n",
      "day 24 cases 4416447.346384375\n",
      "day 25 cases 5299736.815661251\n",
      "day 26 cases 6359684.1787935\n",
      "day 27 cases 7631621.0145522\n",
      "day 28 cases 9157945.21746264\n",
      "day 29 cases 10989534.260955168\n",
      "This is How Many People will have Coronavirus if there is no Social Distancing Please stay safe!\n",
      "This is my Final Project for Codefest\n"
     ]
    }
   ],
   "source": [
    "# This program is a simulation of the spread of Covid-19 in a country.\n",
    "print(\"This Program is dedicated to a project i did back in 2020 for a Challenge called the 300 Innovation Challenge\")\n",
    "# Asking the user to input the number of people who have Covid in their country.\n",
    "cases=int(input(\"How many people have Covid in your country\"))\n",
    "# Creating a list of the number of cases for each day.\n",
    "future=[cases]\n",
    "# This code is taking the number of cases on a given day and multiplying it by a factor of 2.5.\n",
    "if cases<30000:\n",
    "    for x in range(0,50):\n",
    "        print(\"day\",x,\"cases\",future[x])\n",
    "\n",
    "# Creating a list of future values based on the previous value.\n",
    "        future.append(future[x]*1.5)\n",
    "elif cases > 29999 and cases:\n",
    "    for x in range(0,100):\n",
    "        print(\"day\",x,\"cases\",future[x])\n",
    "        future.append(future[x]*1.2)\n",
    "print(\"This is How Many People will have Coronavirus if there is no Social Distancing Please stay safe!\")\n",
    "print(\"This is my Final Project for Codefest\")                \n",
    "\n",
    "# First Thing i did that made me love Ai And How machines can think for themselves"
   ]
  }
 ],
 "metadata": {
  "kernelspec": {
   "display_name": "Python 3.9.6 64-bit",
   "language": "python",
   "name": "python3"
  },
  "language_info": {
   "codemirror_mode": {
    "name": "ipython",
    "version": 3
   },
   "file_extension": ".py",
   "mimetype": "text/x-python",
   "name": "python",
   "nbconvert_exporter": "python",
   "pygments_lexer": "ipython3",
   "version": "3.9.6"
  },
  "orig_nbformat": 4,
  "vscode": {
   "interpreter": {
    "hash": "31f2aee4e71d21fbe5cf8b01ff0e069b9275f58929596ceb00d14d90e3e16cd6"
   }
  }
 },
 "nbformat": 4,
 "nbformat_minor": 2
}
